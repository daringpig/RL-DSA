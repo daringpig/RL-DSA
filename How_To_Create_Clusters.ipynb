{
 "cells": [
  {
   "cell_type": "markdown",
   "metadata": {},
   "source": [
    "   # CLUSTERING ALGORITHM FOR WIRELESS SENSORY NODES FOR DISTRIBUTED COMPUTATION OF DRQN\n",
    "   \n",
    "   ### This algo works in following way:\n",
    "   #### 1] Pick a random node from the set.\n",
    "   #### 2] This node connects to the nearest 3 neighbors.\n",
    "   #### 3] Set the virtual distance to infinity for these nodes.\n",
    "   #### 4] Repeat step 2 and step 3 untill all the nodes are assigned.\n",
    "  \n",
    "  ### There are two methods to execute this; DFS and BFS\n",
    "  "
   ]
  },
  {
   "cell_type": "code",
   "execution_count": 77,
   "metadata": {
    "collapsed": true
   },
   "outputs": [],
   "source": [
    "import random \n",
    "import matplotlib.pyplot as plt\n",
    "import numpy as np\n",
    "import operator\n",
    "from collections import deque"
   ]
  },
  {
   "cell_type": "markdown",
   "metadata": {},
   "source": [
    "## set parameters here: "
   ]
  },
  {
   "cell_type": "code",
   "execution_count": 104,
   "metadata": {
    "collapsed": true
   },
   "outputs": [],
   "source": [
    "nodes = 10 #number of nodes on the canvas\n",
    "infi = 10000 #infinity: set this value more than W* root(2) i.e. max possible distance on canvas\n",
    "W = 80 #width of the canvas\n",
    "CoverageRadius = 6 #coverage radius of a node, this is not taken into computation but used for plotting \n",
    "PosOfNodes = [] #creates list of nodes"
   ]
  },
  {
   "cell_type": "markdown",
   "metadata": {},
   "source": [
    "## function : generate_nodes on random positions on canvas of width 'W'"
   ]
  },
  {
   "cell_type": "code",
   "execution_count": 105,
   "metadata": {},
   "outputs": [],
   "source": [
    "def generate_nodes():\n",
    "    for i in range((nodes)):\n",
    "        x = random.randint(0,W)\n",
    "        y = random.randint(0,W)\n",
    "        pnt = (x,y)\n",
    "        PosOfNodes.append(pnt)\n",
    "        \n",
    "    print(PosOfNodes)\n",
    "    "
   ]
  },
  {
   "cell_type": "code",
   "execution_count": 106,
   "metadata": {},
   "outputs": [
    {
     "name": "stdout",
     "output_type": "stream",
     "text": [
      "[(80, 58), (46, 31), (41, 48), (5, 20), (37, 27), (27, 37), (25, 64), (67, 9), (67, 58), (17, 39)]\n"
     ]
    }
   ],
   "source": [
    "generate_nodes()"
   ]
  },
  {
   "cell_type": "markdown",
   "metadata": {},
   "source": [
    "## Run the cell below to generate a StartNode which act as propogating point of clustering"
   ]
  },
  {
   "cell_type": "code",
   "execution_count": 107,
   "metadata": {},
   "outputs": [
    {
     "data": {
      "text/plain": [
       "8"
      ]
     },
     "execution_count": 107,
     "metadata": {},
     "output_type": "execute_result"
    }
   ],
   "source": [
    "StartNode = random.randint(1,nodes)\n",
    "StartNode"
   ]
  },
  {
   "cell_type": "markdown",
   "metadata": {},
   "source": [
    "## Function : convert list of points to dictionary"
   ]
  },
  {
   "cell_type": "code",
   "execution_count": 108,
   "metadata": {
    "collapsed": true
   },
   "outputs": [],
   "source": [
    "def generate_position_dict():\n",
    "    positions = dict()\n",
    "    for i in PosOfNodes:\n",
    "        p = dict()\n",
    "        for j in PosOfNodes:\n",
    "            if i[0] == j[0]:\n",
    "                p[j[1]] = 0\n",
    "        positions[i[0]] = p\n",
    "    \n",
    "    print(positions)\n",
    "    \n"
   ]
  },
  {
   "cell_type": "markdown",
   "metadata": {},
   "source": [
    "## function call : generate_position_dict"
   ]
  },
  {
   "cell_type": "code",
   "execution_count": 109,
   "metadata": {},
   "outputs": [
    {
     "name": "stdout",
     "output_type": "stream",
     "text": [
      "{80: {58: 0}, 17: {39: 0}, 67: {9: 0, 58: 0}, 5: {20: 0}, 25: {64: 0}, 41: {48: 0}, 27: {37: 0}, 46: {31: 0}, 37: {27: 0}}\n"
     ]
    }
   ],
   "source": [
    "generate_position_dict()"
   ]
  },
  {
   "cell_type": "markdown",
   "metadata": {},
   "source": [
    "## Function : plot fully connected graph for all nodes"
   ]
  },
  {
   "cell_type": "code",
   "execution_count": 110,
   "metadata": {},
   "outputs": [],
   "source": [
    "def plot_fc():\n",
    "    N = nodes\n",
    "    x = np.zeros(N)\n",
    "    y = np.zeros(N)\n",
    "    for i in range(nodes):\n",
    "        x[i] = PosOfNodes[i][0]\n",
    "        y[i] = PosOfNodes[i][1]\n",
    "\n",
    "    colors = np.random.rand(N)\n",
    "    area = (CoverageRadius*2)**2  # 0 to 15 point radii\n",
    "\n",
    "\n",
    "\n",
    "    for i in PosOfNodes:\n",
    "        plt.text(i[0],i[1],i)\n",
    "        for j in PosOfNodes:\n",
    "            plt.plot([i[0], j[0]], [i[1], j[1]],'black',lw='0.01')\n",
    "\n",
    "    #print(PosOfNodes[2],PosOfNodes[3])\n",
    "    #plt.plot([PosOfNodes[2][0], PosOfNodes[3][0]], [PosOfNodes[2][1], PosOfNodes[3][1]])\n",
    "    plt.scatter(x, y, s=area, c=colors, alpha=0.5)\n",
    "    plt.show()\n"
   ]
  },
  {
   "cell_type": "markdown",
   "metadata": {},
   "source": [
    "## plots fully connected graph"
   ]
  },
  {
   "cell_type": "code",
   "execution_count": 111,
   "metadata": {},
   "outputs": [
    {
     "data": {
      "image/png": "[encoded data removed]",
      "text/plain": [
       "<matplotlib.figure.Figure at 0x23ed3cbb5c0>"
      ]
     },
     "metadata": {},
     "output_type": "display_data"
    }
   ],
   "source": [
    "plot_fc()"
   ]
  },
  {
   "cell_type": "code",
   "execution_count": 113,
   "metadata": {
    "collapsed": true
   },
   "outputs": [],
   "source": [
    "q = deque()\n"
   ]
  },
  {
   "cell_type": "code",
   "execution_count": 114,
   "metadata": {
    "collapsed": true
   },
   "outputs": [],
   "source": [
    "def dist(a,b):\n",
    "    return ((a[0]-b[0])**2 + (a[1]-b[1])**2) ** (1/2.0) \n",
    "\n",
    "# a and b are in form of:\n",
    "#a = (3,4)\n",
    "#b = (5,8)\n"
   ]
  },
  {
   "cell_type": "markdown",
   "metadata": {
    "collapsed": true
   },
   "source": [
    "## function : create distance matrix "
   ]
  },
  {
   "cell_type": "code",
   "execution_count": 115,
   "metadata": {},
   "outputs": [],
   "source": [
    "distance_matrix = {}\n",
    "row = {}\n",
    "\n",
    "def create_dist_mat(PosOfNodes):\n",
    "    print(PosOfNodes)\n",
    "    for i in PosOfNodes:\n",
    "        print(i)\n",
    "        row = {}\n",
    "        for j in PosOfNodes:\n",
    "            row[j] = dist(i,j)\n",
    "        distance_matrix[i] = row\n",
    "        \n",
    "    print(distance_matrix)"
   ]
  },
  {
   "cell_type": "markdown",
   "metadata": {},
   "source": [
    "## function call : create_dist_mat"
   ]
  },
  {
   "cell_type": "code",
   "execution_count": 116,
   "metadata": {},
   "outputs": [
    {
     "name": "stdout",
     "output_type": "stream",
     "text": [
      "[(80, 58), (46, 31), (41, 48), (5, 20), (37, 27), (27, 37), (25, 64), (67, 9), (67, 58), (17, 39)]\n",
      "(80, 58)\n",
      "(46, 31)\n",
      "(41, 48)\n",
      "(5, 20)\n",
      "(37, 27)\n",
      "(27, 37)\n",
      "(25, 64)\n",
      "(67, 9)\n",
      "(67, 58)\n",
      "(17, 39)\n",
      "{(5, 20): {(5, 20): 0.0, (25, 64): 48.33218389437829, (46, 31): 42.44997055358225, (80, 58): 84.07734534343957, (17, 39): 22.47220505424423, (37, 27): 32.7566787083184, (67, 58): 72.71863585079137, (27, 37): 27.80287754891569, (67, 9): 62.96824596572466, (41, 48): 45.60701700396552}, (25, 64): {(5, 20): 48.33218389437829, (25, 64): 0.0, (46, 31): 39.11521443121589, (80, 58): 55.326304774492215, (17, 39): 26.248809496813376, (37, 27): 38.897300677553446, (67, 58): 42.42640687119285, (27, 37): 27.073972741361768, (67, 9): 69.20260110718382, (41, 48): 22.627416997969522}, (46, 31): {(5, 20): 42.44997055358225, (25, 64): 39.11521443121589, (46, 31): 0.0, (80, 58): 43.41658669218482, (17, 39): 30.083217912982647, (37, 27): 9.848857801796104, (67, 58): 34.20526275297414, (27, 37): 19.924858845171276, (67, 9): 30.4138126514911, (41, 48): 17.72004514666935}, (80, 58): {(5, 20): 84.07734534343957, (25, 64): 55.326304774492215, (46, 31): 43.41658669218482, (80, 58): 0.0, (17, 39): 65.80273550544841, (37, 27): 53.009433122794285, (67, 58): 13.0, (27, 37): 57.0087712549569, (67, 9): 50.695167422546305, (41, 48): 40.26164427839479}, (17, 39): {(5, 20): 22.47220505424423, (25, 64): 26.248809496813376, (46, 31): 30.083217912982647, (80, 58): 65.80273550544841, (17, 39): 0.0, (37, 27): 23.323807579381203, (67, 58): 53.48831648126533, (27, 37): 10.198039027185569, (67, 9): 58.309518948453004, (41, 48): 25.632011235952593}, (37, 27): {(5, 20): 32.7566787083184, (25, 64): 38.897300677553446, (46, 31): 9.848857801796104, (80, 58): 53.009433122794285, (17, 39): 23.323807579381203, (37, 27): 0.0, (67, 58): 43.139309220245984, (27, 37): 14.142135623730951, (67, 9): 34.9857113690718, (41, 48): 21.37755832643195}, (67, 58): {(5, 20): 72.71863585079137, (25, 64): 42.42640687119285, (46, 31): 34.20526275297414, (80, 58): 13.0, (17, 39): 53.48831648126533, (37, 27): 43.139309220245984, (67, 58): 0.0, (27, 37): 45.17742799230607, (67, 9): 49.0, (41, 48): 27.85677655436824}, (27, 37): {(5, 20): 27.80287754891569, (25, 64): 27.073972741361768, (46, 31): 19.924858845171276, (80, 58): 57.0087712549569, (17, 39): 10.198039027185569, (37, 27): 14.142135623730951, (67, 58): 45.17742799230607, (27, 37): 0.0, (67, 9): 48.82622246293481, (41, 48): 17.804493814764857}, (67, 9): {(5, 20): 62.96824596572466, (25, 64): 69.20260110718382, (46, 31): 30.4138126514911, (80, 58): 50.695167422546305, (17, 39): 58.309518948453004, (37, 27): 34.9857113690718, (67, 58): 49.0, (27, 37): 48.82622246293481, (67, 9): 0.0, (41, 48): 46.87216658103186}, (41, 48): {(5, 20): 45.60701700396552, (25, 64): 22.627416997969522, (46, 31): 17.72004514666935, (80, 58): 40.26164427839479, (17, 39): 25.632011235952593, (37, 27): 21.37755832643195, (67, 58): 27.85677655436824, (27, 37): 17.804493814764857, (67, 9): 46.87216658103186, (41, 48): 0.0}}\n"
     ]
    }
   ],
   "source": [
    "create_dist_mat(PosOfNodes)"
   ]
  },
  {
   "cell_type": "markdown",
   "metadata": {},
   "source": [
    "## set values of cluster_assigned and cluster_head to 1 with length of nodes"
   ]
  },
  {
   "cell_type": "code",
   "execution_count": 117,
   "metadata": {
    "collapsed": true
   },
   "outputs": [],
   "source": [
    "cluster_head = np.ones(nodes)\n",
    "cluster_assigned = np.ones(nodes)"
   ]
  },
  {
   "cell_type": "markdown",
   "metadata": {},
   "source": [
    "## set value of StartNode to infinity (this positions the node to virtually infinite distance)"
   ]
  },
  {
   "cell_type": "code",
   "execution_count": 118,
   "metadata": {},
   "outputs": [],
   "source": [
    "def reset():\n",
    "    cluster_head = np.ones(nodes)\n",
    "    cluster_assigned = np.ones(nodes)\n",
    "    \n",
    "    cluster_head[StartNode] = infi\n",
    "    cluster_assigned[StartNode] = infi\n",
    "\n",
    "    #cluster_assigned, cluster_head\n",
    "    \n",
    "    "
   ]
  },
  {
   "cell_type": "code",
   "execution_count": 119,
   "metadata": {
    "collapsed": true
   },
   "outputs": [],
   "source": [
    "reset()"
   ]
  },
  {
   "cell_type": "code",
   "execution_count": 120,
   "metadata": {
    "collapsed": true
   },
   "outputs": [],
   "source": [
    "sums = 0\n",
    "cluster = {}"
   ]
  },
  {
   "cell_type": "code",
   "execution_count": 121,
   "metadata": {},
   "outputs": [],
   "source": [
    "def connect_dfs(q,sums):\n",
    "    \n",
    "    check_it = (infi*nodes)\n",
    "    if(int(sums) == int(check_it)):\n",
    "           return None\n",
    "    print(check_it)\n",
    "    while(len(q)>0):\n",
    "        \n",
    "        var = q.popleft()\n",
    "        print(var)\n",
    "        connected = deque()\n",
    "        #sorted_x = sorted(distance_matrix[var].items(), key=operator.itemgetter(1))\n",
    "        d = {}\n",
    "        for i in range(nodes):\n",
    "            d[i] = distance_matrix[PosOfNodes[var]][PosOfNodes[i]]\n",
    "        #print(d)  \n",
    "        \n",
    "        for i in range(nodes):\n",
    "            d[i] = d[i] * cluster_assigned[i]\n",
    "        #print(d)\n",
    "        \n",
    "        sorted_x = sorted(d.items(), key=operator.itemgetter(1))\n",
    "        #print(sorted_x)\n",
    "        \n",
    "        connected.append(sorted_x[1][0])\n",
    "        connected.append(sorted_x[2][0])\n",
    "        connected.append(sorted_x[3][0])\n",
    "        cluster[var] = list(connected)\n",
    "        cluster_assigned[sorted_x[1][0]] = infi\n",
    "        cluster_assigned[sorted_x[2][0]] = infi\n",
    "        cluster_assigned[sorted_x[3][0]] = infi\n",
    "        print(cluster_assigned)\n",
    "        sums = np.sum(cluster_assigned)\n",
    "        print(connected)\n",
    "        print('sums',sums)\n",
    "        if(int(sums) == int(check_it)):\n",
    "           break\n",
    "        connect_dfs(connected,sums)\n",
    "        \n",
    "    \n",
    "    return sums\n",
    "    "
   ]
  },
  {
   "cell_type": "code",
   "execution_count": 122,
   "metadata": {},
   "outputs": [
    {
     "data": {
      "text/plain": [
       "deque([8])"
      ]
     },
     "execution_count": 122,
     "metadata": {},
     "output_type": "execute_result"
    }
   ],
   "source": [
    "q.append(StartNode)\n",
    "q"
   ]
  },
  {
   "cell_type": "code",
   "execution_count": 123,
   "metadata": {
    "collapsed": true
   },
   "outputs": [],
   "source": [
    "def connect_bfs(q):\n",
    "    sums = 0\n",
    "    check_it = float(infi*nodes)\n",
    "    print('check_it',check_it)\n",
    "    var = 0\n",
    "    print('len of q', len(q))\n",
    "    while(len(q)>0):\n",
    "        print('bfs')\n",
    "        connected = deque()\n",
    "        \n",
    "        var = q.popleft()\n",
    "        print('var',var)\n",
    "        \n",
    "        d = {}\n",
    "        for i in range(nodes):\n",
    "            d[i] = distance_matrix[PosOfNodes[var]][PosOfNodes[i]]\n",
    "        #print('d',d)  \n",
    "        \n",
    "        for i in range(nodes):\n",
    "            d[i] = d[i] * cluster_assigned[i]\n",
    "        #print('d',d)\n",
    "        \n",
    "        sorted_x = sorted(d.items(), key=operator.itemgetter(1))\n",
    "        #print(sorted_x)\n",
    "        \n",
    "        connected.append(sorted_x[1][0]) \n",
    "        connected.append(sorted_x[2][0])\n",
    "        connected.append(sorted_x[3][0])\n",
    "        \n",
    "        cluster[var] = list(connected)\n",
    "        print(cluster)\n",
    "        cluster_assigned[sorted_x[1][0]] = infi\n",
    "        cluster_assigned[sorted_x[2][0]] = infi\n",
    "        cluster_assigned[sorted_x[3][0]] = infi\n",
    "        print('CA',cluster_assigned)\n",
    "        sums = np.sum(cluster_assigned)\n",
    "        \n",
    "        print('connected',connected)\n",
    "        print('sums',sums)\n",
    "        if(int(sums) == int(check_it)):\n",
    "           break\n",
    "    \n",
    "    if(int(sums) == int(check_it)):\n",
    "           return None\n",
    "    \n",
    "    connect_bfs(connected)\n",
    "    print('recc')\n",
    "    #return sums\n",
    "    "
   ]
  },
  {
   "cell_type": "code",
   "execution_count": 143,
   "metadata": {},
   "outputs": [],
   "source": [
    "def plot_cluster():\n",
    "    N = nodes\n",
    "    x = np.zeros(N)\n",
    "    y = np.zeros(N)\n",
    "    for i in range(nodes):\n",
    "        x[i] = PosOfNodes[i][0]\n",
    "        y[i] = PosOfNodes[i][1]\n",
    "\n",
    "    colors = np.random.rand(N)\n",
    "    area = (CoverageRadius*2)**2  # 0 to 15 point radii\n",
    "\n",
    "\n",
    "\n",
    "    for i in cluster:\n",
    "        plt.text(PosOfNodes[i][0],PosOfNodes[i][1],i, fontsize=20)\n",
    "        for j in cluster[i]:\n",
    "            plt.text(PosOfNodes[j][0],PosOfNodes[j][1],j, fontsize=12)\n",
    "            plt.plot([PosOfNodes[i][0], PosOfNodes[j][0]], [PosOfNodes[i][1], PosOfNodes[j][1]],'black',lw='0.5')\n",
    "\n",
    "    #print(PosOfNodes[2],PosOfNodes[3])\n",
    "    #plt.plot([PosOfNodes[2][0], PosOfNodes[3][0]], [PosOfNodes[2][1], PosOfNodes[3][1]])\n",
    "    plt.scatter(x, y, s=area, c=colors, alpha=0.5)\n",
    "    plt.show()\n"
   ]
  },
  {
   "cell_type": "code",
   "execution_count": 125,
   "metadata": {
    "collapsed": true
   },
   "outputs": [],
   "source": [
    "def run_dfs_cluster():\n",
    "    \n",
    "    q.append(StartNode)\n",
    "    reset()\n",
    "    connect_dfs(q,sums)\n",
    "    plot_cluster()\n",
    "    \n"
   ]
  },
  {
   "cell_type": "code",
   "execution_count": 126,
   "metadata": {
    "collapsed": true
   },
   "outputs": [],
   "source": [
    "def run_bfs_cluster():\n",
    "    \n",
    "    q.append(StartNode)\n",
    "    reset()\n",
    "    connect_bfs(q)\n",
    "    plot_cluster()"
   ]
  },
  {
   "cell_type": "code",
   "execution_count": 144,
   "metadata": {},
   "outputs": [
    {
     "name": "stdout",
     "output_type": "stream",
     "text": [
      "check_it 100000.0\n",
      "len of q 1\n",
      "bfs\n",
      "var 8\n",
      "{8: [0, 2, 1], 4: [7, 1, 5], 6: [9, 8, 3]}\n",
      "CA [ 10000.  10000.  10000.  10000.  10000.  10000.  10000.  10000.  10000.\n",
      "  10000.]\n",
      "connected deque([0, 2, 1])\n",
      "sums 100000.0\n"
     ]
    },
    {
     "data": {
      "image/png": "[encoded data removed]",
      "text/plain": [
       "<matplotlib.figure.Figure at 0x23ed29bc470>"
      ]
     },
     "metadata": {},
     "output_type": "display_data"
    }
   ],
   "source": [
    "run_bfs_cluster()"
   ]
  },
  {
   "cell_type": "code",
   "execution_count": null,
   "metadata": {},
   "outputs": [],
   "source": [
    "run_dfs_cluster()"
   ]
  },
  {
   "cell_type": "code",
   "execution_count": null,
   "metadata": {
    "collapsed": true
   },
   "outputs": [],
   "source": []
  }
 ],
 "metadata": {
  "anaconda-cloud": {},
  "kernelspec": {
   "display_name": "Python 3",
   "language": "python",
   "name": "python3"
  },
  "language_info": {
   "codemirror_mode": {
    "name": "ipython",
    "version": 3
   },
   "file_extension": ".py",
   "mimetype": "text/x-python",
   "name": "python",
   "nbconvert_exporter": "python",
   "pygments_lexer": "ipython3",
   "version": "3.6.8"
  }
 },
 "nbformat": 4,
 "nbformat_minor": 1
}
